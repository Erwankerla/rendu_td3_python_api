{
 "cells": [
  {
   "cell_type": "markdown",
   "metadata": {},
   "source": [
    "# Python with APIs\n",
    "Exchanges via HTTP using `requests` package"
   ]
  },
  {
   "cell_type": "code",
   "execution_count": 46,
   "metadata": {},
   "outputs": [],
   "source": [
    "import requests"
   ]
  },
  {
   "cell_type": "markdown",
   "metadata": {},
   "source": [
    "## Example"
   ]
  },
  {
   "cell_type": "markdown",
   "metadata": {},
   "source": [
    "### Agify API"
   ]
  },
  {
   "cell_type": "markdown",
   "metadata": {},
   "source": [
    "Example route for Agify API"
   ]
  },
  {
   "cell_type": "code",
   "execution_count": 47,
   "metadata": {},
   "outputs": [],
   "source": [
    "agify_dan = \"https://api.agify.io/?name=dan\""
   ]
  },
  {
   "cell_type": "markdown",
   "metadata": {},
   "source": [
    "Extract response"
   ]
  },
  {
   "cell_type": "code",
   "execution_count": 48,
   "metadata": {},
   "outputs": [
    {
     "name": "stdout",
     "output_type": "stream",
     "text": [
      "Answer status_code: <Response [200]>\n",
      "<class 'str'>\n",
      "<class 'dict'>\n",
      "{\"count\":67782,\"name\":\"dan\",\"age\":66}\n",
      "{'count': 67782, 'name': 'dan', 'age': 66}\n"
     ]
    }
   ],
   "source": [
    "# Run a GET request\n",
    "agify_answer = requests.get(agify_dan)\n",
    "agify_answer_txt = agify_answer.text\n",
    "agify_answer_json = agify_answer.json()\n",
    "\n",
    "print(f\"Answer status_code: {agify_answer}\")\n",
    "\n",
    "print(type(agify_answer_txt))\n",
    "print(type(agify_answer_json))\n",
    "\n",
    "print(agify_answer_txt)\n",
    "print(agify_answer_json)"
   ]
  },
  {
   "cell_type": "markdown",
   "metadata": {},
   "source": [
    "## Introductory Exercises"
   ]
  },
  {
   "cell_type": "code",
   "execution_count": 49,
   "metadata": {},
   "outputs": [
    {
     "name": "stdout",
     "output_type": "stream",
     "text": [
      "{\"count\":6272,\"name\":\"erwan\",\"age\":40}\n"
     ]
    }
   ],
   "source": [
    "# Exercise 1\n",
    "# Write a script that asks the user for their first name\n",
    "# and responds with a personalized message\n",
    "# using the agify API\n",
    "\n",
    "Name = input(\"Entrez votre nom : \")\n",
    "agify_Name = \"https://api.agify.io/?name=\" + Name\n",
    "agify_answer = requests.get(agify_Name)\n",
    "agify_answer_txt = agify_answer.text\n",
    "\n",
    "print(agify_answer_txt)\n"
   ]
  },
  {
   "cell_type": "code",
   "execution_count": 50,
   "metadata": {},
   "outputs": [
    {
     "name": "stdout",
     "output_type": "stream",
     "text": [
      "{\"count\":16455,\"name\":\"erwan\",\"gender\":\"male\",\"probability\":0.99}\n"
     ]
    }
   ],
   "source": [
    "# Exercise 2\n",
    "# Write a script that asks the user for their first name\n",
    "# and responds with a personalized message\n",
    "# using the genderize API\n",
    "# https://api.genderize.io/?name=YOUR_NAME\n",
    "\n",
    "Name = input(\"Entrez votre nom : \")\n",
    "genderize_Name = \"https://api.genderize.io/?name=\" + Name\n",
    "genderize_answer = requests.get(genderize_Name)\n",
    "genderize_answer_txt = genderize_answer.text\n",
    "\n",
    "print(genderize_answer_txt)\n"
   ]
  },
  {
   "cell_type": "code",
   "execution_count": 51,
   "metadata": {},
   "outputs": [
    {
     "name": "stdout",
     "output_type": "stream",
     "text": [
      "{\"count\":689,\"name\":\"erwan\",\"country\":[{\"country_id\":\"MY\",\"probability\":0.2859342382130581},{\"country_id\":\"ID\",\"probability\":0.20854010640623488},{\"country_id\":\"FR\",\"probability\":0.15709057887912692},{\"country_id\":\"SQ\",\"probability\":0.03754083961775141},{\"country_id\":\"BN\",\"probability\":0.0319031999550681}]}\n"
     ]
    }
   ],
   "source": [
    "# Exercise 3\n",
    "# Write a script that asks the user for their first name\n",
    "# and responds with a personalized message\n",
    "# using the nationalize API\n",
    "# https://api.nationalize.io/?name=YOUR_NAME\n",
    "\n",
    "Name = input(\"Entrez votre nom : \")\n",
    "nationalize_Name = \"https://api.nationalize.io/?name=\" + Name\n",
    "nationalize_answer = requests.get(nationalize_Name)\n",
    "nationalize_answer_txt = nationalize_answer.text\n",
    "\n",
    "print(nationalize_answer_txt)\n"
   ]
  },
  {
   "cell_type": "code",
   "execution_count": 52,
   "metadata": {},
   "outputs": [
    {
     "name": "stdout",
     "output_type": "stream",
     "text": [
      "{ \"name\":erwan, \"country\":[{'country_id': 'MY', 'probability': 0.2859342382130581}] }\n"
     ]
    }
   ],
   "source": [
    "\n",
    "# Exercise 3.1\n",
    "# Parsing the response from the nationalize API\n",
    "# Get the most probable country and its percentage\n",
    "# Example response: {\"name\":\"YOUR_NAME\",\"country\":[{\"country_id\":\"FR\",\"probability\":0.75},{\"country_id\":\"BE\",\"probability\":0.25}]}\n",
    "# Hint: use the max() function with a lambda function\n",
    "# https://docs.python.org/3/library/functions.html#max\n",
    "# https://docs.python.org/3/tutorial/controlflow.html#lambda-expressions\n",
    "\n",
    "nationalize_answer_json = nationalize_answer.json()\n",
    "countries = nationalize_answer_json.get(\"country\")\n",
    "most_probable_country = max(countries, key=lambda x: x[\"probability\"])\n",
    "name = nationalize_answer_json.get(\"name\")\n",
    "\n",
    "print(\"{\",f'\"name\":{name}, \"country\":[{most_probable_country}]',\"}\")\n",
    "\n"
   ]
  },
  {
   "cell_type": "code",
   "execution_count": 53,
   "metadata": {},
   "outputs": [
    {
     "name": "stdout",
     "output_type": "stream",
     "text": [
      "Prepare a dish from a foreign culture\n",
      "{'activity': 'Hold a video game tournament with some friends', 'type': 'social', 'participants': 4, 'price': 0, 'link': '', 'key': '2300257', 'accessibility': 0.1}\n",
      "{'activity': 'Go see a Broadway production', 'type': 'recreational', 'participants': 4, 'price': 0.8, 'link': '', 'key': '4448913', 'accessibility': 0.3}\n",
      "{'activity': 'Compliment someone', 'type': 'social', 'participants': 2, 'price': 0, 'link': '', 'key': '9149470', 'accessibility': 0}\n"
     ]
    }
   ],
   "source": [
    "# Exercise 4\n",
    "# Use BoredAPI : https://www.boredapi.com/\n",
    "# Documentation : https://www.boredapi.com/documentation\n",
    "# 1. Write a script that generates random activities\n",
    "# 2. Write a script that generates random activities\n",
    "# 3. Write a script that generates random activities for 4 participants\n",
    "# 4. Write a script that generates random activities for 4 participants and of type \"recreational\"\n",
    "# 5. Write a script that generates random activities for 2 participants and that does not require equipment\n",
    "\n",
    "#Random activities\n",
    "bored_api_url = \"https://www.boredapi.com/api/activity\"\n",
    "response = requests.get(bored_api_url)\n",
    "response_json = response.json()\n",
    "activity = response_json.get(\"activity\")\n",
    "print(activity)\n",
    "\n",
    "#For 4 participants\n",
    "bored_api_url_participants = \"https://www.boredapi.com/api/activity?participants=4\"\n",
    "response = requests.get(bored_api_url_participants)\n",
    "response_json = response.json()\n",
    "print(response_json)\n",
    "\n",
    "#For 4 participants and recreational\n",
    "bored_api_url_participants_type = \"https://www.boredapi.com/api/activity?participants=4&type=recreational\"\n",
    "response = requests.get(bored_api_url_participants_type)\n",
    "response_json = response.json()\n",
    "print(response_json)\n",
    "\n",
    "#On regarde par rapport à 'accessibility' et on garde les activitées qui sont accessibles avec accessibility=0\n",
    "bored_api_url_participants_equipment = \"https://www.boredapi.com/api/activity?participants=2&accessibility=0\"\n",
    "response = requests.get(bored_api_url_participants_equipment)\n",
    "response_json = response.json()\n",
    "print(response_json)"
   ]
  },
  {
   "cell_type": "markdown",
   "metadata": {},
   "source": [
    "## Intermediate exercises"
   ]
  },
  {
   "cell_type": "code",
   "execution_count": 54,
   "metadata": {},
   "outputs": [],
   "source": [
    "# OpenDomesday\n",
    "# https://opendomesday.org/api/\n",
    "\n",
    "# Exercise 1\n",
    "# Write a script that displays all the counties  \n",
    "# using the OpenDomesday API.\n",
    "\n",
    "opendomesday_url = \"https://opendomesday.org/api/1.0/county\"\n",
    "response = requests.get(opendomesday_url)\n",
    "response_json = response.json()"
   ]
  },
  {
   "cell_type": "code",
   "execution_count": 55,
   "metadata": {},
   "outputs": [
    {
     "name": "stdout",
     "output_type": "stream",
     "text": [
      "id : dby\n",
      "Name : Derbyshire\n",
      "Places id : [1036, 2558, 3016, 4791, 6093, 8701, 8951, 9101, 11441, 10771, 16116]\n"
     ]
    }
   ],
   "source": [
    "# Exercise 2\n",
    "# Write a script that displays the information\n",
    "# of the county \"Derbyshire\".\n",
    "\n",
    "for i in range(len(response_json)):\n",
    "    rep = response_json[i]\n",
    "    if rep.get('name') == 'Derbyshire':\n",
    "        response_Derbyshire = rep\n",
    "        break\n",
    "\n",
    "#on récupère que les id \n",
    "Places = [response_Derbyshire.get('places_in_county')[i].get('id') for i in range(len(response_Derbyshire.get('places_in_county')))]\n",
    "\n",
    "#on fais un affichage correct\n",
    "print(f\"id : {response_Derbyshire.get('id')}\\nName : {response_Derbyshire.get('name')}\")\n",
    "print(f\"Places id : {Places[:11]}\")\n"
   ]
  },
  {
   "cell_type": "code",
   "execution_count": 56,
   "metadata": {},
   "outputs": [],
   "source": [
    "# Exercise 3\n",
    "# Now that we have the ids for all the places in Derbyshire, we can load all their details...\n",
    "# And from their details, we can list all the details of their manors.\n",
    "# Go fetch the data!\n",
    "# P.S.: remember to save the data to avoid downloading it every time\n",
    "\n",
    "opendomesday_url = \"https://opendomesday.org/api/1.0/manor\"\n",
    "liste_manor_infos = []\n",
    "\n",
    "#on prend 10 car impossible de récupérer toutes les données\n",
    "for i in range(10):\n",
    "    lien = opendomesday_url + \"/\" + str(Places[i])\n",
    "    response = requests.get(lien)\n",
    "    response_json = response.json()\n",
    "    liste_manor_infos.append(response_json)\n",
    "\n"
   ]
  },
  {
   "cell_type": "code",
   "execution_count": 57,
   "metadata": {},
   "outputs": [],
   "source": [
    "# Exercise 4\n",
    "# Now that we have a quantity of raw data, we will extract the interesting parts.  \n",
    "# In our case, we want to count the money paid by each manor and compare it to the number of ploughs it has.  \n",
    "# - Can you find the corresponding json fields?  \n",
    "# - Then, you can list these numbers for each manor in Derbyshire.  \n",
    "# - And format this in an appropriate comma-separated values (CSV) file.\n",
    " \n",
    "liste_infos_prix_ploughs = []\n",
    "for i in range(len(liste_manor_infos)):\n",
    "    manor = liste_manor_infos[i]\n",
    "    id = manor.get(\"id\")\n",
    "    geld = manor.get('geld')\n",
    "    ploughs = manor.get('totalploughs')\n",
    "    liste_infos_prix_ploughs.append({\"id\":id, \"prix\":geld, \"ploughs\":ploughs})\n",
    "    \n",
    "\n",
    "\n",
    "import csv\n",
    "\n",
    "csv_file_path = \"prix_ploughs_manoir.csv\"\n",
    "fieldnames = ['id', 'prix', 'ploughs']\n",
    "\n",
    "with open(csv_file_path, 'w', newline='') as csvfile:\n",
    "    writer = csv.DictWriter(csvfile, fieldnames=fieldnames, delimiter=';')\n",
    "    writer.writeheader()\n",
    "    for item in liste_infos_prix_ploughs:\n",
    "        writer.writerow(item)\n"
   ]
  },
  {
   "cell_type": "code",
   "execution_count": 58,
   "metadata": {},
   "outputs": [
    {
     "data": {
      "text/plain": [
       "{'id': 11441, 'prix': 30.0, 'ploughs': 17.0}"
      ]
     },
     "execution_count": 58,
     "metadata": {},
     "output_type": "execute_result"
    }
   ],
   "source": [
    "# Exercise 5\n",
    "# What is the richest manor in Derbyshire?\n",
    "\n",
    "richest_manor = max(liste_infos_prix_ploughs, key = lambda x : x.get(\"prix\"))\n",
    "\n",
    "richest_manor\n"
   ]
  },
  {
   "cell_type": "code",
   "execution_count": 59,
   "metadata": {},
   "outputs": [
    {
     "data": {
      "text/plain": [
       "72.0"
      ]
     },
     "execution_count": 59,
     "metadata": {},
     "output_type": "execute_result"
    }
   ],
   "source": [
    "# Exercise 6\n",
    "# Give the total value paid by Derbyshire.\n",
    "\n",
    "sum_manor = sum([liste_infos_prix_ploughs[i].get('prix') for i in range(len(liste_infos_prix_ploughs))])\n",
    "\n",
    "sum_manor"
   ]
  },
  {
   "cell_type": "code",
   "execution_count": 60,
   "metadata": {},
   "outputs": [
    {
     "name": "stdout",
     "output_type": "stream",
     "text": [
      "Les données ont été enregistrées dans le fichier manor_prices_and_ploughs.csv.\n",
      "Le manoir le plus riche de Derbyshire est : {'id': 11441, 'prix': 30.0, 'ploughs': 17.0}\n",
      "La valeur totale payée par Derbyshire est : 76.0\n"
     ]
    }
   ],
   "source": [
    "# Exercise 7\n",
    "# Create a Python class.  \n",
    "# It must include all the previous functionalities.  \n",
    "# Refactor your code to make it readable, efficient, and maintainable.\n",
    "\n",
    "import requests\n",
    "import csv\n",
    "\n",
    "class OpenDomesdayAPI:\n",
    "    def __init__(self):\n",
    "        self.opendomesday_url = \"https://opendomesday.org/api/1.0/\"\n",
    "    \n",
    "    def get_counties(self):\n",
    "        response = requests.get(self.opendomesday_url + \"county\")\n",
    "        return response.json()\n",
    "    \n",
    "    def get_county_info(self, county_name):\n",
    "        counties = self.get_counties()\n",
    "        for county in counties:\n",
    "            if county.get(\"name\") == county_name:\n",
    "                return county\n",
    "        return None\n",
    "\n",
    "    def get_places_in_county(self, county_name):\n",
    "        county_info = self.get_county_info(county_name)\n",
    "        return [county_info.get('places_in_county')[i].get('id') for i in range(len(county_info.get('places_in_county')))]\n",
    "    \n",
    "    def get_manor_info(self, place_id):\n",
    "        response = requests.get(self.opendomesday_url + f\"manor/{place_id}\")\n",
    "        return response.json()\n",
    "    \n",
    "    def get_manor_prices_and_ploughs(self, county_name):\n",
    "        county_info = self.get_county_info(county_name)\n",
    "        if county_info:\n",
    "            places = self.get_places_in_county(county_name)\n",
    "            manor_infos = []\n",
    "            #on prend 10 comme avant car je n'arrive pas à récupérer toutes les données\n",
    "            for place_id in places[:11]:\n",
    "                manor_info = self.get_manor_info(place_id)\n",
    "                manor_id = manor_info.get(\"id\")\n",
    "                geld = manor_info.get(\"geld\")\n",
    "                ploughs = manor_info.get(\"totalploughs\")\n",
    "                manor_infos.append({\"id\": manor_id, \"prix\": geld, \"ploughs\": ploughs})\n",
    "            return manor_infos\n",
    "        else:\n",
    "            return []\n",
    "    \n",
    "    def save_manor_prices_and_ploughs_to_csv(self, county_name, filename):\n",
    "        manor_infos = self.get_manor_prices_and_ploughs(county_name)\n",
    "        if manor_infos:\n",
    "            fieldnames = ['id', 'prix', 'ploughs']\n",
    "            with open(filename, 'w', newline='') as csvfile:\n",
    "                writer = csv.DictWriter(csvfile, fieldnames=fieldnames, delimiter=';')\n",
    "                writer.writeheader()\n",
    "                writer.writerows(manor_infos)\n",
    "            print(f\"Les données ont été enregistrées dans le fichier {filename}.\")\n",
    "        else:\n",
    "            print(\"Aucune donnée n'a été trouvée.\")\n",
    "    \n",
    "    def get_richest_manor(self, county_name):\n",
    "        manor_infos = self.get_manor_prices_and_ploughs(county_name)\n",
    "        if manor_infos:\n",
    "            return max(manor_infos, key=lambda x: x.get(\"prix\"))\n",
    "        else:\n",
    "            return None\n",
    "    \n",
    "    def get_total_value_paid_by_county(self, county_name):\n",
    "        manor_infos = self.get_manor_prices_and_ploughs(county_name)\n",
    "        if manor_infos:\n",
    "            return sum([info.get(\"prix\") for info in manor_infos])\n",
    "        else:\n",
    "            return 0\n",
    "\n",
    "opendomesday = OpenDomesdayAPI()\n",
    "\n",
    "# Exemple d'utilisation des méthodes\n",
    "county_name = \"Derbyshire\"\n",
    "opendomesday.save_manor_prices_and_ploughs_to_csv(county_name, \"manor_prices_and_ploughs.csv\")\n",
    "richest_manor = opendomesday.get_richest_manor(county_name)\n",
    "total_value_paid = opendomesday.get_total_value_paid_by_county(county_name)\n",
    "\n",
    "print(\"Le manoir le plus riche de Derbyshire est :\", richest_manor)\n",
    "print(\"La valeur totale payée par Derbyshire est :\", total_value_paid)\n",
    "\n"
   ]
  }
 ],
 "metadata": {
  "kernelspec": {
   "display_name": "api",
   "language": "python",
   "name": "python3"
  },
  "language_info": {
   "codemirror_mode": {
    "name": "ipython",
    "version": 3
   },
   "file_extension": ".py",
   "mimetype": "text/x-python",
   "name": "python",
   "nbconvert_exporter": "python",
   "pygments_lexer": "ipython3",
   "version": "3.9.13"
  }
 },
 "nbformat": 4,
 "nbformat_minor": 2
}
